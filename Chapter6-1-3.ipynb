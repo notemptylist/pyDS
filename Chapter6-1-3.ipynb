{
 "cells": [
  {
   "cell_type": "markdown",
   "metadata": {},
   "source": [
    "## Chapter 6 - Data sourcing from web\n",
    "\n",
    "### Segment 1 - Accessing html elements "
   ]
  },
  {
   "cell_type": "code",
   "execution_count": 1,
   "metadata": {},
   "outputs": [],
   "source": [
    "import sys\n",
    "import requests\n",
    "from bs4 import BeautifulSoup\n"
   ]
  },
  {
   "cell_type": "code",
   "execution_count": 2,
   "metadata": {},
   "outputs": [
    {
     "name": "stdout",
     "output_type": "stream",
     "text": [
      "<!DOCTYPE html>\n",
      "<html dir=\"ltr\" lang=\"en\">\n",
      " <head>\n",
      "  <meta charset=\"utf-8\"/>\n",
      "  <meta content=\"SoftChalk Create 9.02.10\" name=\"generator\"/>\n",
      "  <meta content=\"width=device-width, initial-scale=1\" name=\"viewport\"/>\n",
      "  <!-- This file is created by SoftChalk LessonBuilder -->\n",
      "  <!-- LessonBuilder Version 9\n"
     ]
    }
   ],
   "source": [
    "from http.client import REQUESTED_RANGE_NOT_SATISFIABLE\n",
    "\n",
    "\n",
    "url = \"https://sphweb.bumc.bu.edu/otlt/mph-modules/bs/bs704_summarizingdata/bs704_summarizingdata7.html\"\n",
    "html = requests.get(url).content\n",
    "soup = BeautifulSoup(html, 'html.parser')\n",
    "\n",
    "print(soup.prettify()[:300])\n"
   ]
  },
  {
   "cell_type": "markdown",
   "metadata": {},
   "source": [
    "**Tag objects**"
   ]
  },
  {
   "cell_type": "code",
   "execution_count": 3,
   "metadata": {},
   "outputs": [
    {
     "name": "stdout",
     "output_type": "stream",
     "text": [
      "<h1 attr_1=\"heading level 1\">title goes here </h1>\n"
     ]
    }
   ],
   "source": [
    "soup_tag = BeautifulSoup('<h1 attr_1=\"heading level 1\">title goes here </h1>', 'lxml')\n",
    "tag = soup_tag.h1\n",
    "print(tag)"
   ]
  },
  {
   "cell_type": "code",
   "execution_count": 4,
   "metadata": {},
   "outputs": [
    {
     "data": {
      "text/plain": [
       "'h1'"
      ]
     },
     "execution_count": 4,
     "metadata": {},
     "output_type": "execute_result"
    }
   ],
   "source": [
    "tag.name\n"
   ]
  },
  {
   "cell_type": "code",
   "execution_count": 5,
   "metadata": {},
   "outputs": [
    {
     "data": {
      "text/plain": [
       "{'attr_1': 'heading level 1'}"
      ]
     },
     "execution_count": 5,
     "metadata": {},
     "output_type": "execute_result"
    }
   ],
   "source": [
    "tag.attrs"
   ]
  },
  {
   "cell_type": "code",
   "execution_count": 6,
   "metadata": {},
   "outputs": [
    {
     "data": {
      "text/plain": [
       "<h1 attr_1=\"heading level 1\" attribute2=\"foo\">title goes here </h1>"
      ]
     },
     "execution_count": 6,
     "metadata": {},
     "output_type": "execute_result"
    }
   ],
   "source": [
    "tag['attribute2'] = 'foo'\n",
    "tag"
   ]
  },
  {
   "cell_type": "code",
   "execution_count": 7,
   "metadata": {},
   "outputs": [
    {
     "data": {
      "text/plain": [
       "<h1 attribute2=\"foo\">title goes here </h1>"
      ]
     },
     "execution_count": 7,
     "metadata": {},
     "output_type": "execute_result"
    }
   ],
   "source": [
    "del tag['attr_1']\n",
    "tag"
   ]
  },
  {
   "cell_type": "code",
   "execution_count": 8,
   "metadata": {},
   "outputs": [
    {
     "data": {
      "text/plain": [
       "<title>InterQuartile Range (IQR)</title>"
      ]
     },
     "execution_count": 8,
     "metadata": {},
     "output_type": "execute_result"
    }
   ],
   "source": [
    "soup.title"
   ]
  },
  {
   "cell_type": "code",
   "execution_count": 9,
   "metadata": {},
   "outputs": [
    {
     "data": {
      "text/plain": [
       "<h1>InterQuartile Range (IQR)</h1>"
      ]
     },
     "execution_count": 9,
     "metadata": {},
     "output_type": "execute_result"
    }
   ],
   "source": [
    "soup.body.h1\n"
   ]
  },
  {
   "cell_type": "code",
   "execution_count": 10,
   "metadata": {},
   "outputs": [
    {
     "data": {
      "text/plain": [
       "<li class=\"arrowprev\"><a href=\"BS704_SummarizingData6.html\" title=\"Go to page 6\">Prev</a></li>"
      ]
     },
     "execution_count": 10,
     "metadata": {},
     "output_type": "execute_result"
    }
   ],
   "source": [
    "soup.li"
   ]
  },
  {
   "cell_type": "code",
   "execution_count": 11,
   "metadata": {},
   "outputs": [
    {
     "data": {
      "text/plain": [
       "<a href=\"BS704_SummarizingData_print.html\" target=\"_blank\">print all</a>"
      ]
     },
     "execution_count": 11,
     "metadata": {},
     "output_type": "execute_result"
    }
   ],
   "source": [
    "soup.a"
   ]
  },
  {
   "cell_type": "markdown",
   "metadata": {},
   "source": [
    "### Segment 2 - NavigatableString Objects"
   ]
  },
  {
   "cell_type": "code",
   "execution_count": 12,
   "metadata": {},
   "outputs": [],
   "source": [
    "soup2 = BeautifulSoup('<h1 attr1=\"foo\">Future Trends</h1>', 'lxml')\n",
    "tag = soup2.h1"
   ]
  },
  {
   "cell_type": "code",
   "execution_count": 13,
   "metadata": {},
   "outputs": [
    {
     "data": {
      "text/plain": [
       "'h1'"
      ]
     },
     "execution_count": 13,
     "metadata": {},
     "output_type": "execute_result"
    }
   ],
   "source": [
    "tag.name"
   ]
  },
  {
   "cell_type": "code",
   "execution_count": 14,
   "metadata": {},
   "outputs": [
    {
     "data": {
      "text/plain": [
       "'Future Trends'"
      ]
     },
     "execution_count": 14,
     "metadata": {},
     "output_type": "execute_result"
    }
   ],
   "source": [
    "tag.string"
   ]
  },
  {
   "cell_type": "code",
   "execution_count": 15,
   "metadata": {},
   "outputs": [
    {
     "data": {
      "text/plain": [
       "bs4.element.NavigableString"
      ]
     },
     "execution_count": 15,
     "metadata": {},
     "output_type": "execute_result"
    }
   ],
   "source": [
    "type(tag.string)"
   ]
  },
  {
   "cell_type": "code",
   "execution_count": 16,
   "metadata": {},
   "outputs": [
    {
     "data": {
      "text/plain": [
       "'Future Trends'"
      ]
     },
     "execution_count": 16,
     "metadata": {},
     "output_type": "execute_result"
    }
   ],
   "source": [
    "navi_str = tag.string\n",
    "navi_str"
   ]
  },
  {
   "cell_type": "code",
   "execution_count": 17,
   "metadata": {},
   "outputs": [
    {
     "data": {
      "text/plain": [
       "'Future Trends'"
      ]
     },
     "execution_count": 17,
     "metadata": {},
     "output_type": "execute_result"
    }
   ],
   "source": [
    "navi_str.replace_with('NaN')"
   ]
  },
  {
   "cell_type": "code",
   "execution_count": 18,
   "metadata": {},
   "outputs": [
    {
     "data": {
      "text/plain": [
       "'NaN'"
      ]
     },
     "execution_count": 18,
     "metadata": {},
     "output_type": "execute_result"
    }
   ],
   "source": [
    "tag.string"
   ]
  },
  {
   "cell_type": "code",
   "execution_count": 19,
   "metadata": {},
   "outputs": [
    {
     "name": "stdout",
     "output_type": "stream",
     "text": [
      "InterQuartile Range (IQR)\n",
      "Summarizing Data\n",
      "Descriptive Statistics\n",
      "print all\n",
      "Prev\n",
      "Next\n",
      "1\n",
      "|\n",
      "2\n",
      "|\n",
      "3\n",
      "|\n",
      "4\n",
      "|\n",
      "5\n",
      "|\n",
      "6\n",
      "|   7\n",
      "|\n",
      "8\n",
      "|\n",
      "9\n",
      "|\n",
      "10\n",
      "InterQuartile Range (IQR)\n",
      "Outliers and Tukey Fences:\n",
      "Contents\n",
      "All Modules\n",
      "InterQuartile Range (IQR)\n",
      "When a data set has outliers or extreme values, we summarize a typical value using the\n",
      "median\n",
      "as opposed to the mean.  When a data set has outliers, variability is often summarized by a statistic called the\n",
      "interquartile range\n",
      ", which is the difference between the first and third quartiles. The first quartile, denoted Q\n",
      "1\n",
      ", is the value in the data set that holds 25% of the values\n",
      "below\n",
      "it. The third quartile, denoted Q\n",
      "3\n",
      ", is the value in the data set that holds 25% of the values\n",
      "above\n",
      "it. The quartiles can be determined following the same approach that we used to determine the median, but we now consider each half of the data set separately. The interquartile range is defined as follows:\n",
      "Interquartile Range = Q\n",
      "3\n",
      "-Q\n",
      "1\n",
      "With an Even Sample Size:\n",
      "For the sample (n=10) the median diastolic blood pressure is 71 (50% of the values are above 71, and 50% are below). The quartiles can be determined in the same way we determined the median, except we consider each half of the data set separately.\n",
      "Figure 9 - Interquartile Range with Even Sample Size\n",
      "There are 5 values below the median (lower half), the middle value is 64 which is the first quartile. There are 5 values above the median (upper half), the middle value is 77 which is the third quartile. The interquartile range is 77 – 64 = 13; the interquartile range is the range of the middle 50% of the data.\n",
      "----------------------------------------------------------------------------------------------------------------------------------------------------------------\n",
      "With an Odd Sample Size:\n",
      "When the sample size is odd, the median and quartiles are determined in the same way. Suppose in the previous example, the lowest value (62) were excluded, and the sample size was n=9.  The median and quartiles are indicated below.\n",
      "Figure 10 - Interquartile Range with Odd Sample Size\n",
      "When the sample size is 9, the median is the middle number 72. The quartiles are determined in the same way looking at the lower and upper halves, respectively. There are 4 values in the lower half, the first quartile is the mean of the 2 middle values in the lower half ((64+64)/2=64). The same approach is used in the upper half to determine the third quartile ((77+81)/2=79).\n",
      "Outliers and Tukey Fences:\n",
      "When there are no outliers in a sample, the mean and standard deviation are used to summarize a typical value and the variability in the sample, respectively.  When there are outliers in a sample, the median and interquartile range are used to summarize a typical value and the variability in the sample, respectively.\n",
      "Tukey Fences\n",
      "There are several methods for determining outliers in a sample. A very popular method is based on the following:\n",
      "Outliers are values below Q\n",
      "1\n",
      "-1.5(Q\n",
      "3\n",
      "-Q\n",
      "1\n",
      ") or above Q\n",
      "3\n",
      "+1.5(Q\n",
      "3\n",
      "-Q\n",
      "1\n",
      ") or equivalently, values below Q\n",
      "1\n",
      "-1.5 IQR or above Q\n",
      "3\n",
      "+1.5 IQR.\n",
      "These are referred to as Tukey fences.\n",
      "6\n",
      "For the diastolic blood pressures, the lower limit is 64 - 1.5(77-64) = 44.5 and the upper limit is 77 + 1.5(77-64) = 96.5.  The diastolic blood pressures range from 62 to 81. Therefore there are no outliers.  The best summary of a typical diastolic blood pressure is the mean (in this case 71.3) and the best summary of variability is given by the standard deviation (s=7.2).\n",
      "Table 13 displays the means, standard deviations, medians, quartiles and interquartile ranges for each of the continuous variables in the subsample of n=10 participants who attended the seventh examination of the Framingham Offspring Study.\n",
      "Table 13 - Summary Statistics on n=10 Participants\n",
      "Characteristic\n",
      "Mean\n",
      "Standard Deviation\n",
      "Median\n",
      "Q1\n",
      "Q3\n",
      "IQR\n",
      "Systolic Blood Pressure\n",
      "121.2\n",
      "11.1\n",
      "122.5\n",
      "113.0\n",
      "127.0\n",
      "14.0\n",
      "Diastolic Blood Pressure\n",
      "71.3\n",
      "7.2\n",
      "71.0\n",
      "64.0\n",
      "77.0\n",
      "13.0\n",
      "Total Serum Cholesterol\n",
      "202.3\n",
      "37.7\n",
      "206.5\n",
      "163.0\n",
      "227.0\n",
      "64.0\n",
      "Weight\n",
      "176.0\n",
      "33.0\n",
      "169.5\n",
      "151.0\n",
      "206.0\n",
      "55.0\n",
      "Height\n",
      "67.175\n",
      "4.205\n",
      "69.375\n",
      "63.0\n",
      "70.0\n",
      "7.0\n",
      "Body Mass Index\n",
      "27.26\n",
      "3.10\n",
      "26.60\n",
      "24.9\n",
      "29.6\n",
      "4.7\n",
      "Table 14 displays the observed minimum and maximum values along with the limits to determine outliers using the quartile rule for each of the variables in the subsample of n=10 participants. Are there outliers in any of the variables? Which statistics are most appropriate to summarize the average or typical value and the dispersion?\n",
      "Table 14 - Limits for Assessing Outliers in Characteristics Measured in the n=10 Participants\n",
      "Characteristic\n",
      "Minimum\n",
      "Maximum\n",
      "Lower Limit\n",
      "1\n",
      "Upper Limit\n",
      "2\n",
      "Systolic Blood Pressure\n",
      "105\n",
      "141\n",
      "92\n",
      "148\n",
      "Diastolic Blood Pressure\n",
      "62\n",
      "81\n",
      "44.5\n",
      "96.5\n",
      "Total Serum Cholesterol\n",
      "150\n",
      "275\n",
      "67\n",
      "323\n",
      "Weight\n",
      "138\n",
      "235\n",
      "68.5\n",
      "288.5\n",
      "Height\n",
      "60.75\n",
      "72.00\n",
      "52.5\n",
      "80.5\n",
      "Body Mass Index\n",
      "22.8\n",
      "31.9\n",
      "17.85\n",
      "36.65\n",
      "1\n",
      "Determined byQ\n",
      "1\n",
      "-1.5(Q\n",
      "3\n",
      "-Q\n",
      "1\n",
      ")\n",
      "2\n",
      "Determined by Q\n",
      "3\n",
      "+1.5(Q\n",
      "3\n",
      "-Q\n",
      "1\n",
      ")\n",
      "Since there are no suspected outliers in the subsample of n=10 participants, the mean and standard deviation are the most appropriate statistics to summarize average values and dispersion, respectively, of each of these characteristics.\n",
      "The Full Framingham Cohort\n",
      "For clarity, we have so far used a very small subset of the Framingham Offspring Cohort to illustrate calculations of summary statistics and determination of outliers. For your interest, Table 15 displays the means, standard deviations, medians, quartiles and interquartile ranges for each of the continuous variable displayed in Table 13 in the\n",
      "full\n",
      "sample (n=3,539) of participants who attended the seventh examination of the Framingham Offspring Study.\n",
      "Table 15 - Summary Statistics on Sample of (n=3,539) Participants\n",
      "Characteristic\n",
      "Mean\n",
      "Standard Deviation\n",
      "(s)\n",
      "Median\n",
      "Q1\n",
      "Q3\n",
      "IQR\n",
      "Systolic Blood Pressure\n",
      "127.3\n",
      "19.0\n",
      "125.0\n",
      "114.0\n",
      "138.0\n",
      "24.0\n",
      "Diastolic Blood Pressure\n",
      "74.0\n",
      "9.9\n",
      "74.0\n",
      "67.0\n",
      "80.0\n",
      "13.0\n",
      "Total Serum Cholesterol\n",
      "200.3\n",
      "36.8\n",
      "198.0\n",
      "175.0\n",
      "223.0\n",
      "48.0\n",
      "Weight\n",
      "174.4\n",
      "38.7\n",
      "170.0\n",
      "146.0\n",
      "198.0\n",
      "52.0\n",
      "Height\n",
      "65.957\n",
      "3.749\n",
      "65.750\n",
      "63.000\n",
      "68.750\n",
      "5.75\n",
      "Body Mass Index\n",
      "28.15\n",
      "5.32\n",
      "27.40\n",
      "24.5\n",
      "30.8\n",
      "6.3\n",
      "Based solely on a comparison of the means and medians in Table 15 above, there is evidence that there was one or more characteristics with values that were outliers?\n",
      "True\n",
      "False\n",
      "Table 16 displays the observed minimum and maximum values along with the limits to determine outliers using the quartile rule for each of the variables in the full sample (n=3,539).\n",
      "Table 16 - Limits for Assessing Outliers in Characteristics Presented in Table 15\n",
      "Tukey Fences\n",
      "Characteristic\n",
      "Minimum\n",
      "Maximum\n",
      "Lower Limit\n",
      "1\n",
      "Upper Limit\n",
      "2\n",
      "Systolic Blood Pressure\n",
      "81.0\n",
      "216.0\n",
      "78\n",
      "174\n",
      "Diastolic Blood Pressure\n",
      "41.0\n",
      "114.0\n",
      "47.5\n",
      "99.5\n",
      "Total Serum Cholesterol\n",
      "83.0\n",
      "357.0\n",
      "103\n",
      "295\n",
      "Weight\n",
      "90.0\n",
      "375.0\n",
      "68.0\n",
      "276.0\n",
      "Height\n",
      "55.00\n",
      "78.75\n",
      "54.4\n",
      "77.4\n",
      "Body Mass Index\n",
      "15.8\n",
      "64.0\n",
      "15.05\n",
      "40.25\n",
      "1\n",
      "Determined byQ\n",
      "1\n",
      "-1.5(Q\n",
      "3\n",
      "-Q\n",
      "1\n",
      ")\n",
      "2\n",
      "Determined by Q\n",
      "3\n",
      "+1.5(Q\n",
      "3\n",
      "-Q\n",
      "1\n",
      ")\n",
      "Click below the question to view the answer.\n",
      "This content requires JavaScript enabled.\n",
      "return to top\n",
      "|\n",
      "previous page\n",
      "|\n",
      "next page\n",
      "Content ©2016. All Rights Reserved.\n",
      "Date last modified: May 17, 2016.\n",
      "Created by Lisa Sullivan, PhD and Wayne W. LaMorte, MD, PhD, MPH,\n",
      "Boston University School of Public Health\n"
     ]
    }
   ],
   "source": [
    "for string in soup.stripped_strings:\n",
    "    print(string)"
   ]
  },
  {
   "cell_type": "code",
   "execution_count": 20,
   "metadata": {},
   "outputs": [
    {
     "data": {
      "text/plain": [
       "<a href=\"BS704_SummarizingData_print.html\" target=\"_blank\">print all</a>"
      ]
     },
     "execution_count": 20,
     "metadata": {},
     "output_type": "execute_result"
    }
   ],
   "source": [
    "first_link = soup.a\n",
    "first_link"
   ]
  },
  {
   "cell_type": "code",
   "execution_count": 21,
   "metadata": {},
   "outputs": [
    {
     "data": {
      "text/plain": [
       "<div id=\"printall\" role=\"menu\"><a href=\"BS704_SummarizingData_print.html\" target=\"_blank\">print all</a></div>"
      ]
     },
     "execution_count": 21,
     "metadata": {},
     "output_type": "execute_result"
    }
   ],
   "source": [
    "first_link.parent"
   ]
  },
  {
   "cell_type": "code",
   "execution_count": 22,
   "metadata": {},
   "outputs": [
    {
     "data": {
      "text/plain": [
       "'print all'"
      ]
     },
     "execution_count": 22,
     "metadata": {},
     "output_type": "execute_result"
    }
   ],
   "source": [
    "first_link.string"
   ]
  },
  {
   "cell_type": "markdown",
   "metadata": {},
   "source": [
    "**Segment 3 - Data parsing**"
   ]
  },
  {
   "cell_type": "code",
   "execution_count": 23,
   "metadata": {},
   "outputs": [
    {
     "name": "stdout",
     "output_type": "stream",
     "text": [
      "<html>\n",
      " <head>\n",
      "  <title>\n",
      "   IoT Articles\n",
      "  </title>\n",
      " </head>\n",
      " <body>\n",
      "  <p class=\"title\">\n",
      "   <b>\n",
      "    \n"
     ]
    }
   ],
   "source": [
    "import re\n",
    "soup.find_all('Even')\n",
    "\n",
    "with requests.get('https://raw.githubusercontent.com/BigDataGal/Data-Mania-Demos/master/IoT-2018.html') as resp:\n",
    "    html = resp.text\n",
    "html\n",
    "soup = BeautifulSoup(html, 'lxml')\n",
    "print(soup.prettify()[:100])"
   ]
  },
  {
   "cell_type": "markdown",
   "metadata": {},
   "source": [
    "**Getting data from parse tree**"
   ]
  },
  {
   "cell_type": "code",
   "execution_count": 24,
   "metadata": {},
   "outputs": [
    {
     "name": "stdout",
     "output_type": "stream",
     "text": [
      "IoT Articles\n",
      "\n",
      "2018 Trends: Best New IoT Device Ideas for Data Scientists and Engineers\n",
      "It�s almost 2018 and IoT is on the cusp of an explosive expansion. In this article, I offer you a listing of new IoT device ideas that you can use...\n",
      "\n",
      "\n",
      "It�s almost 2018 and IoT is on the cusp of an explosive expansion. In this article, I offer you a listing of new IoT device ideas that you can use to get practice in designing your first IoT applications.\n",
      "Looking Back at My Coolest IoT Find in 2017\n",
      "Before going into detail about best new IoT device ideas, here�s the backstory. Last month Ericsson Digital invited me to tour the Ericsson Studio in Kista, Sweden. Up until that visit, IoT had been largely theoretical to me. Of course, I know the usual mumbo-jumbo about wearables and IoT-connected fitness trackers. That stuff is all well and good, but it�s somewhat old hat � plus I am not sure we are really benefiting so much from those, so I�m not that impressed.\n",
      "\n",
      "It wasn�t until I got to the Ericss\n"
     ]
    }
   ],
   "source": [
    "text_only = soup.get_text()\n",
    "print(text_only[:1000])"
   ]
  },
  {
   "cell_type": "markdown",
   "metadata": {},
   "source": [
    "**Searching and retrieving**"
   ]
  },
  {
   "cell_type": "code",
   "execution_count": 25,
   "metadata": {},
   "outputs": [
    {
     "data": {
      "text/plain": [
       "[<li><strong>Big Data</strong> &amp; Data Engineering: Sensors that are embedded within IoT devices spin off machine-generated data like it�s going out of style. For IoT to function, the platform must be solidly engineered to handle big data. Be assured, that requires some serious data engineering.</li>,\n",
       " <li><strong>Machine Learning</strong> Data Science: While a lot of IoT devices are still operated according to rules-based decision criteria, the age of artificial intelligence is upon us. IoT will increasingly depend on machine learning algorithms to control device operations so that devices are able to autonomously respond to a complex set of overlapping stimuli.</li>,\n",
       " <li><strong>Blockchain</strong>-Enabled Security: Above all else, IoT networks must be secure. Blockchain technology is primed to meet the security demands that come along with building and expanding the IoT.</li>,\n",
       " <li>Enable built-in sensing to build a weather station that measures ambient temperature and humidity</li>,\n",
       " <li>Build a system that detects discrepancies in electrical readings to identify electricity theft</li>,\n",
       " <li>Use IoT to build a Servo that is controlled by motion detection readings</li>,\n",
       " <li>Build a smart control switch that operates devices based on external stimuli. Use this for home automation.</li>,\n",
       " <li>Build a music playing application that enables music for each room in your house</li>,\n",
       " <li>Implement biometrics on IoT-connected devices</li>,\n",
       " <li>Integrate Arduino with Android to build a remote-control RGB LED device.</li>,\n",
       " <li>Connect PIR sensors across the IoT to implement a smart building.</li>,\n",
       " <li>Build a temperature and sunlight sensor system to remotely monitor and control the conditions of your garden.</li>,\n",
       " <li>Deploy Arduino and IoT to automate your neighborhood streetlights.</li>,\n",
       " <li>Build a smart irrigation system based on IoT-connected temperature and moisture sensors built-in to your agricultural plants.</li>,\n",
       " <li>Monitor soil moisture to automate agricultural irrigation cycles.</li>,\n",
       " <li>Automate and control the conditions of a greenhouse.</li>,\n",
       " <li>Enable bio-metrics to build a smart security system for your home or office building</li>,\n",
       " <li>Build an autonomously operating fitness application that automatically makes recommendations based on motion detection and heart rate sensors that are embedded on wearable fitness trackers.</li>,\n",
       " <li>Build a healthcare monitoring system that tracks, informs, and automatically alerts healthcare providers based on sensor readings that describe a patients vital statistics (like temperature, pulse, blood pressure, etc).</li>,\n",
       " <li>Build an IoT device that automatically locates and reports the closest nearby parking spot.</li>,\n",
       " <li>Build a motion detection system that automatically issues emails or sms messages to alert home owners of a likely home invasion.</li>,\n",
       " <li>Use temperature sensors connected across the IoT to automatically alert you if your home windows or doors have been left open.</li>,\n",
       " <li>Use bio-metric sensors to build a smart system that automate security for your home or office building</li>]"
      ]
     },
     "execution_count": 25,
     "metadata": {},
     "output_type": "execute_result"
    }
   ],
   "source": [
    "soup.find_all('li')"
   ]
  },
  {
   "cell_type": "code",
   "execution_count": 26,
   "metadata": {},
   "outputs": [
    {
     "data": {
      "text/plain": [
       "[<a class=\"preview\" href=\"http://www.skyfilabs.com/iot-online-courses\" id=\"link 7\">SkyFi</a>]"
      ]
     },
     "execution_count": 26,
     "metadata": {},
     "output_type": "execute_result"
    }
   ],
   "source": [
    "soup.find_all(id=\"link 7\")"
   ]
  },
  {
   "cell_type": "code",
   "execution_count": 27,
   "metadata": {},
   "outputs": [
    {
     "data": {
      "text/plain": [
       "[<b>2018 Trends: Best New IoT Device Ideas for Data Scientists and Engineers</b>,\n",
       " <ol>\n",
       " <li><strong>Big Data</strong> &amp; Data Engineering: Sensors that are embedded within IoT devices spin off machine-generated data like it�s going out of style. For IoT to function, the platform must be solidly engineered to handle big data. Be assured, that requires some serious data engineering.</li>\n",
       " <li><strong>Machine Learning</strong> Data Science: While a lot of IoT devices are still operated according to rules-based decision criteria, the age of artificial intelligence is upon us. IoT will increasingly depend on machine learning algorithms to control device operations so that devices are able to autonomously respond to a complex set of overlapping stimuli.</li>\n",
       " <li><strong>Blockchain</strong>-Enabled Security: Above all else, IoT networks must be secure. Blockchain technology is primed to meet the security demands that come along with building and expanding the IoT.</li>\n",
       " </ol>,\n",
       " <ol>\n",
       " <li>Enable built-in sensing to build a weather station that measures ambient temperature and humidity</li>\n",
       " <li>Build a system that detects discrepancies in electrical readings to identify electricity theft</li>\n",
       " <li>Use IoT to build a Servo that is controlled by motion detection readings</li>\n",
       " <li>Build a smart control switch that operates devices based on external stimuli. Use this for home automation.</li>\n",
       " <li>Build a music playing application that enables music for each room in your house</li>\n",
       " <li>Implement biometrics on IoT-connected devices</li>\n",
       " </ol>,\n",
       " <ol>\n",
       " <li>Integrate Arduino with Android to build a remote-control RGB LED device.</li>\n",
       " <li>Connect PIR sensors across the IoT to implement a smart building.</li>\n",
       " <li>Build a temperature and sunlight sensor system to remotely monitor and control the conditions of your garden.</li>\n",
       " <li>Deploy Arduino and IoT to automate your neighborhood streetlights.</li>\n",
       " <li>Build a smart irrigation system based on IoT-connected temperature and moisture sensors built-in to your agricultural plants.</li>\n",
       " </ol>,\n",
       " <ol>\n",
       " <li>Monitor soil moisture to automate agricultural irrigation cycles.</li>\n",
       " <li>Automate and control the conditions of a greenhouse.</li>\n",
       " <li>Enable bio-metrics to build a smart security system for your home or office building</li>\n",
       " <li>Build an autonomously operating fitness application that automatically makes recommendations based on motion detection and heart rate sensors that are embedded on wearable fitness trackers.</li>\n",
       " <li>Build a healthcare monitoring system that tracks, informs, and automatically alerts healthcare providers based on sensor readings that describe a patients vital statistics (like temperature, pulse, blood pressure, etc).</li>\n",
       " </ol>,\n",
       " <ol>\n",
       " <li>Build an IoT device that automatically locates and reports the closest nearby parking spot.</li>\n",
       " <li>Build a motion detection system that automatically issues emails or sms messages to alert home owners of a likely home invasion.</li>\n",
       " <li>Use temperature sensors connected across the IoT to automatically alert you if your home windows or doors have been left open.</li>\n",
       " <li>Use bio-metric sensors to build a smart system that automate security for your home or office building</li>\n",
       " </ol>]"
      ]
     },
     "execution_count": 27,
     "metadata": {},
     "output_type": "execute_result"
    }
   ],
   "source": [
    "soup.find_all(['ol', 'b'])"
   ]
  },
  {
   "cell_type": "code",
   "execution_count": 28,
   "metadata": {},
   "outputs": [
    {
     "name": "stdout",
     "output_type": "stream",
     "text": [
      "html\n",
      "title\n",
      "strong\n",
      "strong\n",
      "strong\n",
      "strong\n",
      "strong\n",
      "strong\n"
     ]
    }
   ],
   "source": [
    "t = re.compile('t')\n",
    "for tag in soup.find_all(t):\n",
    "    print(tag.name)"
   ]
  },
  {
   "cell_type": "code",
   "execution_count": 29,
   "metadata": {},
   "outputs": [
    {
     "name": "stdout",
     "output_type": "stream",
     "text": [
      "html\n",
      "head\n",
      "title\n",
      "body\n",
      "p\n",
      "b\n",
      "p\n",
      "br\n",
      "br\n",
      "h1\n",
      "span\n",
      "strong\n",
      "a\n",
      "a\n",
      "a\n",
      "img\n",
      "a\n",
      "span\n",
      "strong\n",
      "a\n",
      "h1\n",
      "ol\n",
      "li\n",
      "strong\n",
      "li\n",
      "strong\n",
      "li\n",
      "strong\n",
      "h1\n",
      "a\n",
      "a\n",
      "a\n",
      "h2\n",
      "ol\n",
      "li\n",
      "li\n",
      "li\n",
      "li\n",
      "li\n",
      "li\n",
      "h2\n",
      "ol\n",
      "li\n",
      "li\n",
      "li\n",
      "li\n",
      "li\n",
      "a\n",
      "img\n",
      "h2\n",
      "ol\n",
      "li\n",
      "li\n",
      "li\n",
      "li\n",
      "li\n",
      "h2\n",
      "ol\n",
      "li\n",
      "li\n",
      "li\n",
      "li\n",
      "span\n",
      "strong\n",
      "a\n",
      "em\n",
      "p\n"
     ]
    }
   ],
   "source": [
    "for tag in soup.find_all(True):\n",
    "    print(tag.name)"
   ]
  },
  {
   "cell_type": "markdown",
   "metadata": {},
   "source": [
    "**Find weblinks**"
   ]
  },
  {
   "cell_type": "code",
   "execution_count": 30,
   "metadata": {},
   "outputs": [
    {
     "name": "stdout",
     "output_type": "stream",
     "text": [
      "http://bit.ly/LPlNDJj\n",
      "http://www.data-mania.com/blog/m2m-vs-iot/\n",
      "bit.ly/LPlNDJj\n",
      "http://mat.se/\n",
      "http://bit.ly/LPlNDJj\n",
      "https://click.linksynergy.com/deeplink?id=*JDLXjeE*wk&mid=39197&murl=https%3A%2F%2Fwww.udemy.com%2Ftopic%2Finternet-of-things%2F%3Fsort%3Dhighest-rated\n",
      "http://www.skyfilabs.com/iot-online-courses\n",
      "https://www.coursera.org/specializations/iot\n",
      "bit.ly/LPlNDJj\n",
      "http://bit.ly/LPlNDJj\n"
     ]
    }
   ],
   "source": [
    "for link in soup.find_all('a'):\n",
    "    print(link.get('href'))"
   ]
  },
  {
   "cell_type": "code",
   "execution_count": 31,
   "metadata": {},
   "outputs": [
    {
     "data": {
      "text/plain": [
       "[' & Data Engineering: Sensors that are embedded within IoT devices spin off machine-generated data like it�s going out of style. For IoT to function, the platform must be solidly engineered to handle big data. Be assured, that requires some serious data engineering.']"
      ]
     },
     "execution_count": 31,
     "metadata": {},
     "output_type": "execute_result"
    }
   ],
   "source": [
    "soup.find_all(string=re.compile('data'))"
   ]
  },
  {
   "cell_type": "code",
   "execution_count": null,
   "metadata": {},
   "outputs": [],
   "source": []
  }
 ],
 "metadata": {
  "kernelspec": {
   "display_name": "Python 3.10.2 ('venv': venv)",
   "language": "python",
   "name": "python3"
  },
  "language_info": {
   "codemirror_mode": {
    "name": "ipython",
    "version": 3
   },
   "file_extension": ".py",
   "mimetype": "text/x-python",
   "name": "python",
   "nbconvert_exporter": "python",
   "pygments_lexer": "ipython3",
   "version": "3.10.2"
  },
  "orig_nbformat": 4,
  "vscode": {
   "interpreter": {
    "hash": "75f7b5ff7ef34e50545dcaf9bb78bdbe9905b649b0a643b69dae315e965f7879"
   }
  }
 },
 "nbformat": 4,
 "nbformat_minor": 2
}
